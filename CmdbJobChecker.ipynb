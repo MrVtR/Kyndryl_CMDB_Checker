{
 "cells": [
  {
   "cell_type": "markdown",
   "id": "57d99166",
   "metadata": {},
   "source": [
    "# Operação de All Call Lists - CMDB: Retorno de um Terceiro Arquivo"
   ]
  },
  {
   "cell_type": "code",
   "execution_count": 1,
   "id": "6206772d",
   "metadata": {},
   "outputs": [],
   "source": [
    "import subprocess\n",
    "import sys\n",
    "\n",
    "# Instalação de libs caso não estejam na máquina do desenvolvedor\n",
    "try:\n",
    "    import pandas as pd\n",
    "except ImportError:\n",
    "    %pip install pandas\n",
    "finally:\n",
    "    import pandas as pd\n",
    "\n",
    "try:\n",
    "    from pyfiglet import Figlet\n",
    "except ImportError:\n",
    "    %pip install pyfiglet\n",
    "finally:\n",
    "    from pyfiglet import Figlet"
   ]
  },
  {
   "cell_type": "code",
   "execution_count": null,
   "id": "555ab98c",
   "metadata": {},
   "outputs": [],
   "source": [
    "f = Figlet(width=100)\n",
    "print(f.renderText(\"Script made by\\nVitor R. G. Gomes - Kyndryl\\n2022\\n\"))"
   ]
  },
  {
   "cell_type": "code",
   "execution_count": null,
   "id": "9f5a7c5c",
   "metadata": {},
   "outputs": [],
   "source": [
    "# Import de arquivos necessários para rodar o script\n",
    "AllJobsPath = 'ALLJOBS.txt'\n",
    "CMDBJobsPath = 'CMDB.txt'\n",
    "hfdCallListPath = 'hfd.xlsx'\n",
    "hliCallListPath = 'hli.xlsx'\n",
    "devCallListPath = 'dev.xlsx'\n",
    "bldCallListPath = 'bld.xlsx'"
   ]
  },
  {
   "cell_type": "code",
   "execution_count": 127,
   "id": "8be30c18",
   "metadata": {},
   "outputs": [],
   "source": [
    "print('Abrindo arquivos...')\n",
    "with open('AllTeste.txt', 'r') as f1:\n",
    "  allCallLists = f1.read().split('\\n')\n",
    "\n",
    "with open('cmdbTeste.txt', 'r') as f1:\n",
    "  cmdb = f1.read().split('\\n')"
   ]
  },
  {
   "cell_type": "code",
   "execution_count": 128,
   "id": "2cae6f55",
   "metadata": {},
   "outputs": [
    {
     "data": {
      "text/plain": [
       "['a', 'b', 'c', 'd', 'e', 'g']"
      ]
     },
     "execution_count": 128,
     "metadata": {},
     "output_type": "execute_result"
    }
   ],
   "source": [
    "print(\"Verificando quais arquivos já estão no CMDB...\")\n",
    "AllCallListsMinusCMDB = [line for line in allCallLists if line not in cmdb]\n",
    "print(\"Terceiro arquivo:\", len(AllCallListsMinusCMDB))\n",
    "f = open(\"AllCallListsMinusCMDB.txt\", \"a\")\n",
    "f.truncate(0)\n",
    "f.write(\"Jobs que estão na Call List, mas não estão no CMDB ainda:\\n\")\n",
    "for jobName in AllCallListsMinusCMDB:\n",
    "    f.write(jobName+\"\\n\")\n",
    "f.close()\n",
    "AllCallListsMinusCMDB"
   ]
  },
  {
   "cell_type": "markdown",
   "id": "a474a5ab",
   "metadata": {},
   "source": [
    "# Comparação com as call lists e retorno de um quarto arquivo com o Job Name junto com instructions ou Job name e NOT Found se Instructions não forem achadas"
   ]
  },
  {
   "cell_type": "code",
   "execution_count": 130,
   "id": "88fa6600",
   "metadata": {
    "scrolled": true
   },
   "outputs": [],
   "source": [
    "print(\"Abrindo Call Lists...\")\n",
    "hfdCallListDf = pd.read_excel(hfdCallListPath)\n",
    "hliCallListDf = pd.read_excel(hliCallListPath)\n",
    "devCallListDf = pd.read_excel(devCallListPath)\n",
    "bldCallListDf = pd.read_excel(bldCallListPath)\n",
    "print(\"hfd:\", len(hfdCallListPath))\n",
    "print(\"hli:\", len(hliCallListPath))\n",
    "print(\"dev:\", len(devCallListPath))\n",
    "print(\"bld:\", len(bldCallListPath))"
   ]
  },
  {
   "cell_type": "code",
   "execution_count": 131,
   "id": "aaaf8546",
   "metadata": {
    "scrolled": true
   },
   "outputs": [
    {
     "data": {
      "text/html": [
       "<div>\n",
       "<style scoped>\n",
       "    .dataframe tbody tr th:only-of-type {\n",
       "        vertical-align: middle;\n",
       "    }\n",
       "\n",
       "    .dataframe tbody tr th {\n",
       "        vertical-align: top;\n",
       "    }\n",
       "\n",
       "    .dataframe thead th {\n",
       "        text-align: right;\n",
       "    }\n",
       "</style>\n",
       "<table border=\"1\" class=\"dataframe\">\n",
       "  <thead>\n",
       "    <tr style=\"text-align: right;\">\n",
       "      <th></th>\n",
       "      <th>Job</th>\n",
       "      <th>Unnamed: 1</th>\n",
       "      <th>Unnamed: 2</th>\n",
       "      <th>Unnamed: 3</th>\n",
       "      <th>Unnamed: 4</th>\n",
       "      <th>Unnamed: 5</th>\n",
       "      <th>Unnamed: 6</th>\n",
       "      <th>Unnamed: 7</th>\n",
       "      <th>Unnamed: 8</th>\n",
       "      <th>Unnamed: 9</th>\n",
       "      <th>Unnamed: 10</th>\n",
       "      <th>Unnamed: 11</th>\n",
       "    </tr>\n",
       "  </thead>\n",
       "  <tbody>\n",
       "    <tr>\n",
       "      <th>0</th>\n",
       "      <td>a</td>\n",
       "      <td>t</td>\n",
       "      <td>e</td>\n",
       "      <td>f</td>\n",
       "      <td>g</td>\n",
       "      <td>NaN</td>\n",
       "      <td>NaN</td>\n",
       "      <td>NaN</td>\n",
       "      <td>NaN</td>\n",
       "      <td>NaN</td>\n",
       "      <td>NaN</td>\n",
       "      <td>NaN</td>\n",
       "    </tr>\n",
       "    <tr>\n",
       "      <th>1</th>\n",
       "      <td>b</td>\n",
       "      <td>1</td>\n",
       "      <td>2</td>\n",
       "      <td>3</td>\n",
       "      <td>4</td>\n",
       "      <td>5.0</td>\n",
       "      <td>6.0</td>\n",
       "      <td>7.0</td>\n",
       "      <td>8.0</td>\n",
       "      <td>9.0</td>\n",
       "      <td>10.0</td>\n",
       "      <td>11.0</td>\n",
       "    </tr>\n",
       "    <tr>\n",
       "      <th>2</th>\n",
       "      <td>c</td>\n",
       "      <td>1</td>\n",
       "      <td>2</td>\n",
       "      <td>3</td>\n",
       "      <td>4</td>\n",
       "      <td>5.0</td>\n",
       "      <td>NaN</td>\n",
       "      <td>NaN</td>\n",
       "      <td>NaN</td>\n",
       "      <td>NaN</td>\n",
       "      <td>NaN</td>\n",
       "      <td>NaN</td>\n",
       "    </tr>\n",
       "    <tr>\n",
       "      <th>3</th>\n",
       "      <td>d</td>\n",
       "      <td>1</td>\n",
       "      <td>NaN</td>\n",
       "      <td>NaN</td>\n",
       "      <td>NaN</td>\n",
       "      <td>NaN</td>\n",
       "      <td>NaN</td>\n",
       "      <td>NaN</td>\n",
       "      <td>NaN</td>\n",
       "      <td>NaN</td>\n",
       "      <td>NaN</td>\n",
       "      <td>NaN</td>\n",
       "    </tr>\n",
       "  </tbody>\n",
       "</table>\n",
       "</div>"
      ],
      "text/plain": [
       "  Job Unnamed: 1 Unnamed: 2 Unnamed: 3 Unnamed: 4  Unnamed: 5  Unnamed: 6  \\\n",
       "0   a          t          e          f          g         NaN         NaN   \n",
       "1   b          1          2          3          4         5.0         6.0   \n",
       "2   c          1          2          3          4         5.0         NaN   \n",
       "3   d          1        NaN        NaN        NaN         NaN         NaN   \n",
       "\n",
       "   Unnamed: 7  Unnamed: 8  Unnamed: 9  Unnamed: 10  Unnamed: 11  \n",
       "0         NaN         NaN         NaN          NaN          NaN  \n",
       "1         7.0         8.0         9.0         10.0         11.0  \n",
       "2         NaN         NaN         NaN          NaN          NaN  \n",
       "3         NaN         NaN         NaN          NaN          NaN  "
      ]
     },
     "execution_count": 131,
     "metadata": {},
     "output_type": "execute_result"
    }
   ],
   "source": [
    "hfdCallListDf.head()"
   ]
  },
  {
   "cell_type": "code",
   "execution_count": 149,
   "id": "d1ab58d5",
   "metadata": {},
   "outputs": [
    {
     "data": {
      "text/html": [
       "<div>\n",
       "<style scoped>\n",
       "    .dataframe tbody tr th:only-of-type {\n",
       "        vertical-align: middle;\n",
       "    }\n",
       "\n",
       "    .dataframe tbody tr th {\n",
       "        vertical-align: top;\n",
       "    }\n",
       "\n",
       "    .dataframe thead th {\n",
       "        text-align: right;\n",
       "    }\n",
       "</style>\n",
       "<table border=\"1\" class=\"dataframe\">\n",
       "  <thead>\n",
       "    <tr style=\"text-align: right;\">\n",
       "      <th></th>\n",
       "      <th>Job Name</th>\n",
       "      <th>Instructions</th>\n",
       "    </tr>\n",
       "  </thead>\n",
       "  <tbody>\n",
       "  </tbody>\n",
       "</table>\n",
       "</div>"
      ],
      "text/plain": [
       "Empty DataFrame\n",
       "Columns: [Job Name, Instructions]\n",
       "Index: []"
      ]
     },
     "execution_count": 149,
     "metadata": {},
     "output_type": "execute_result"
    }
   ],
   "source": [
    "dfFinalResult = pd.DataFrame(columns=['Job Name', 'Instructions'])\n",
    "dfFinalResult"
   ]
  },
  {
   "cell_type": "code",
   "execution_count": 150,
   "id": "c8a0a206",
   "metadata": {},
   "outputs": [],
   "source": [
    "print(\"Verificando quais Jobs estão nas Call Lists e pegando suas instruções...\")\n",
    "for idxJob, job in enumerate(AllCallListsMinusCMDB):\n",
    "    print(\"Cont:\", idxJob)\n",
    "    achou = False\n",
    "    detail = ''\n",
    "    if job != '':\n",
    "        if not achou:\n",
    "            for i, j in enumerate(hfdCallListDf['Job']):\n",
    "                if(j == job):\n",
    "                    jobName = job\n",
    "                    achou = True\n",
    "                    for idx, val in enumerate(hfdCallListDf.iloc[i, :]):\n",
    "                        if(idx > 0 and not pd.isna(val)):\n",
    "                            detail += str(idx)+\"- \"+str(val)+'\\n'\n",
    "                    if not detail:\n",
    "                        detail = 'Instructions not found'\n",
    "                    break\n",
    "        if not achou:\n",
    "            for i, j in enumerate(hliCallListDf['Job']):\n",
    "                if(j == job):\n",
    "                    jobName = job\n",
    "                    achou = True\n",
    "                    for idx, val in enumerate(hliCallListDf.iloc[i, :]):\n",
    "                        if(idx > 0 and not pd.isna(val)):\n",
    "                            detail += str(idx)+\"- \"+str(val)+'\\n'\n",
    "                    if not detail:\n",
    "                        detail = 'Instructions not found'\n",
    "                    break\n",
    "        if not achou:\n",
    "            for i, j in enumerate(devCallListDf['Job']):\n",
    "                if(j == job):\n",
    "                    jobName = job\n",
    "                    achou = True\n",
    "                    for idx, val in enumerate(devCallListDf.iloc[i, :]):\n",
    "                        if(idx > 0 and not pd.isna(val)):\n",
    "                            detail += str(idx)+\"- \"+str(val)+'\\n'\n",
    "                    if not detail:\n",
    "                        detail = 'Instructions not found'\n",
    "                    break\n",
    "        if not achou:\n",
    "            for i, j in enumerate(bldCallListDf['Job']):\n",
    "                if(j == job):\n",
    "                    jobName = job\n",
    "                    achou = True\n",
    "                    for idx, val in enumerate(bldCallListDf.iloc[i, :]):\n",
    "                        if(idx > 0 and not pd.isna(val)):\n",
    "                            detail += str(idx)+\"- \"+str(val)+'\\n'\n",
    "                    if not detail:\n",
    "                        detail = 'Instructions not found'\n",
    "                    break\n",
    "        if not achou:\n",
    "            jobName = job\n",
    "            detail = \"Job not found in any call list\"\n",
    "\n",
    "        dfFinalResult.loc[dfFinalResult.shape[0]] = [jobName, detail]\n",
    "\n",
    "dfFinalResult.to_excel(\"output.xlsx\",\n",
    "                       sheet_name='Output')"
   ]
  },
  {
   "cell_type": "code",
   "execution_count": 151,
   "id": "beb9980e",
   "metadata": {},
   "outputs": [
    {
     "data": {
      "text/html": [
       "<div>\n",
       "<style scoped>\n",
       "    .dataframe tbody tr th:only-of-type {\n",
       "        vertical-align: middle;\n",
       "    }\n",
       "\n",
       "    .dataframe tbody tr th {\n",
       "        vertical-align: top;\n",
       "    }\n",
       "\n",
       "    .dataframe thead th {\n",
       "        text-align: right;\n",
       "    }\n",
       "</style>\n",
       "<table border=\"1\" class=\"dataframe\">\n",
       "  <thead>\n",
       "    <tr style=\"text-align: right;\">\n",
       "      <th></th>\n",
       "      <th>Job Name</th>\n",
       "      <th>Instructions</th>\n",
       "    </tr>\n",
       "  </thead>\n",
       "  <tbody>\n",
       "    <tr>\n",
       "      <th>0</th>\n",
       "      <td>a</td>\n",
       "      <td>1- t 2- e 3- f 4- g</td>\n",
       "    </tr>\n",
       "    <tr>\n",
       "      <th>1</th>\n",
       "      <td>b</td>\n",
       "      <td>1- 1 2- 2 3- 3 4- 4 5- 5.0 6- 6.0 7- 7.0 8- 8....</td>\n",
       "    </tr>\n",
       "    <tr>\n",
       "      <th>2</th>\n",
       "      <td>c</td>\n",
       "      <td>1- 1 2- 2 3- 3 4- 4 5- 5.0</td>\n",
       "    </tr>\n",
       "    <tr>\n",
       "      <th>3</th>\n",
       "      <td>d</td>\n",
       "      <td>1- 1</td>\n",
       "    </tr>\n",
       "    <tr>\n",
       "      <th>4</th>\n",
       "      <td>e</td>\n",
       "      <td>Instructions not found</td>\n",
       "    </tr>\n",
       "    <tr>\n",
       "      <th>5</th>\n",
       "      <td>g</td>\n",
       "      <td>Job not found in any call list</td>\n",
       "    </tr>\n",
       "  </tbody>\n",
       "</table>\n",
       "</div>"
      ],
      "text/plain": [
       "  Job Name                                       Instructions\n",
       "0        a                               1- t 2- e 3- f 4- g \n",
       "1        b  1- 1 2- 2 3- 3 4- 4 5- 5.0 6- 6.0 7- 7.0 8- 8....\n",
       "2        c                        1- 1 2- 2 3- 3 4- 4 5- 5.0 \n",
       "3        d                                              1- 1 \n",
       "4        e                             Instructions not found\n",
       "5        g                     Job not found in any call list"
      ]
     },
     "execution_count": 151,
     "metadata": {},
     "output_type": "execute_result"
    }
   ],
   "source": [
    "dfFinalResult.replace(r'\\n', ' ', regex=True, inplace=True)\n",
    "dfFinalResult"
   ]
  },
  {
   "cell_type": "code",
   "execution_count": 153,
   "id": "13c927a6",
   "metadata": {},
   "outputs": [
    {
     "data": {
      "text/html": [
       "<div>\n",
       "<style scoped>\n",
       "    .dataframe tbody tr th:only-of-type {\n",
       "        vertical-align: middle;\n",
       "    }\n",
       "\n",
       "    .dataframe tbody tr th {\n",
       "        vertical-align: top;\n",
       "    }\n",
       "\n",
       "    .dataframe thead th {\n",
       "        text-align: right;\n",
       "    }\n",
       "</style>\n",
       "<table border=\"1\" class=\"dataframe\">\n",
       "  <thead>\n",
       "    <tr style=\"text-align: right;\">\n",
       "      <th></th>\n",
       "      <th>Job Name</th>\n",
       "      <th>Instructions</th>\n",
       "    </tr>\n",
       "  </thead>\n",
       "  <tbody>\n",
       "    <tr>\n",
       "      <th>0</th>\n",
       "      <td>a</td>\n",
       "      <td>1- t 2- e 3- f 4- g</td>\n",
       "    </tr>\n",
       "    <tr>\n",
       "      <th>1</th>\n",
       "      <td>b</td>\n",
       "      <td>1- 1 2- 2 3- 3 4- 4 5- 5.0 6- 6.0 7- 7.0 8- 8....</td>\n",
       "    </tr>\n",
       "    <tr>\n",
       "      <th>2</th>\n",
       "      <td>c</td>\n",
       "      <td>1- 1 2- 2 3- 3 4- 4 5- 5.0</td>\n",
       "    </tr>\n",
       "    <tr>\n",
       "      <th>3</th>\n",
       "      <td>d</td>\n",
       "      <td>1- 1</td>\n",
       "    </tr>\n",
       "    <tr>\n",
       "      <th>4</th>\n",
       "      <td>e</td>\n",
       "      <td>Instructions not found</td>\n",
       "    </tr>\n",
       "  </tbody>\n",
       "</table>\n",
       "</div>"
      ],
      "text/plain": [
       "  Job Name                                       Instructions\n",
       "0        a                               1- t 2- e 3- f 4- g \n",
       "1        b  1- 1 2- 2 3- 3 4- 4 5- 5.0 6- 6.0 7- 7.0 8- 8....\n",
       "2        c                        1- 1 2- 2 3- 3 4- 4 5- 5.0 \n",
       "3        d                                              1- 1 \n",
       "4        e                             Instructions not found"
      ]
     },
     "execution_count": 153,
     "metadata": {},
     "output_type": "execute_result"
    }
   ],
   "source": [
    "print(\"Escrevendo arquivo final...\")\n",
    "with open('RelacaoFinalCMDBCallList.txt', 'a', encoding=\"utf-8\") as f:\n",
    "    f.truncate(0)\n",
    "    dfAsString = dfFinalResult.to_string(header=True, index=True)\n",
    "    f.write(dfAsString)\n",
    "print(\"Tudo pronto, finalizando programa...\\nSee ya :D\")\n",
    "dfFinalResult.head()"
   ]
  }
 ],
 "metadata": {
  "kernelspec": {
   "display_name": "Python 3 (ipykernel)",
   "language": "python",
   "name": "python3"
  },
  "language_info": {
   "codemirror_mode": {
    "name": "ipython",
    "version": 3
   },
   "file_extension": ".py",
   "mimetype": "text/x-python",
   "name": "python",
   "nbconvert_exporter": "python",
   "pygments_lexer": "ipython3",
   "version": "3.9.6"
  }
 },
 "nbformat": 4,
 "nbformat_minor": 5
}
